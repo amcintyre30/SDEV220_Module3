{
 "cells": [
  {
   "cell_type": "code",
   "execution_count": 14,
   "id": "40fc01fe",
   "metadata": {},
   "outputs": [
    {
     "name": "stdout",
     "output_type": "stream",
     "text": [
      "Enter vehicle type: Car\n",
      "Enter vehicle year: 2008\n",
      "Enter vehicle make: Nissan\n",
      "Enter vehicle model: Altima\n",
      "2 doors or 4 doors: 4\n",
      "Solid roof or sun roof: Sun roof\n",
      "Vehicle Type:  Car\n",
      "Vehicle year:  2008\n",
      "Vehicle make:  Nissan\n",
      "Vehicle model:  Altima\n",
      "Number of Doors:  4\n",
      "Roof Type:  Sun roof\n"
     ]
    }
   ],
   "source": [
    "#Aubrie McIntyre\n",
    "vehicle_type = input(\"Enter vehicle type: \")\n",
    "year = input(\"Enter vehicle year: \")\n",
    "make = input(\"Enter vehicle make: \")\n",
    "model = input(\"Enter vehicle model: \")\n",
    "doors = input(\"2 doors or 4 doors: \")\n",
    "roof = input(\"Solid roof or sun roof: \")\n",
    "    \n",
    "print(\"Vehicle Type: \", vehicle_type)\n",
    "print(\"Vehicle year: \", year)\n",
    "print(\"Vehicle make: \", make)\n",
    "print(\"Vehicle model: \", model)\n",
    "print(\"Number of Doors: \", doors)\n",
    "print(\"Roof Type: \", roof)"
   ]
  },
  {
   "cell_type": "code",
   "execution_count": null,
   "id": "3f05c30a",
   "metadata": {},
   "outputs": [],
   "source": []
  }
 ],
 "metadata": {
  "kernelspec": {
   "display_name": "Python 3 (ipykernel)",
   "language": "python",
   "name": "python3"
  },
  "language_info": {
   "codemirror_mode": {
    "name": "ipython",
    "version": 3
   },
   "file_extension": ".py",
   "mimetype": "text/x-python",
   "name": "python",
   "nbconvert_exporter": "python",
   "pygments_lexer": "ipython3",
   "version": "3.11.5"
  }
 },
 "nbformat": 4,
 "nbformat_minor": 5
}
